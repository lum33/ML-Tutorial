{
  "nbformat": 4,
  "nbformat_minor": 0,
  "metadata": {
    "colab": {
      "provenance": []
    },
    "kernelspec": {
      "name": "python3",
      "display_name": "Python 3"
    },
    "language_info": {
      "name": "python"
    }
  },
  "cells": [
    {
      "cell_type": "markdown",
      "source": [
        "### **1. Import library**"
      ],
      "metadata": {
        "id": "kJk-oFc31IiF"
      }
    },
    {
      "cell_type": "code",
      "execution_count": 1,
      "metadata": {
        "id": "yfN_-EIh0vy7"
      },
      "outputs": [],
      "source": [
        "import torch\n",
        "import numpy as np"
      ]
    },
    {
      "cell_type": "markdown",
      "source": [
        "### 2. Tensor **張量的基本寫法**"
      ],
      "metadata": {
        "id": "6PH5gcaa1UZP"
      }
    },
    {
      "cell_type": "code",
      "source": [
        "torch.tensor([[1, 2], [3, 4], [5, 6]]) # 建立一個張量"
      ],
      "metadata": {
        "colab": {
          "base_uri": "https://localhost:8080/"
        },
        "id": "nUzu1cGB0_kQ",
        "outputId": "0a614002-c2bf-4e94-c743-bde8ccb74948"
      },
      "execution_count": 4,
      "outputs": [
        {
          "output_type": "execute_result",
          "data": {
            "text/plain": [
              "tensor([[1, 2],\n",
              "        [3, 4],\n",
              "        [5, 6]])"
            ]
          },
          "metadata": {},
          "execution_count": 4
        }
      ]
    },
    {
      "cell_type": "code",
      "source": [
        "torch.tensor([[1, 2], [3, 4], [5, 6]], dtype=torch.float64) # 可使用 dtype 來設定數據類型"
      ],
      "metadata": {
        "colab": {
          "base_uri": "https://localhost:8080/"
        },
        "id": "TATayow72EvG",
        "outputId": "298d694e-d957-4f4d-b8e7-6839107d0a7f"
      },
      "execution_count": 8,
      "outputs": [
        {
          "output_type": "execute_result",
          "data": {
            "text/plain": [
              "tensor([[1., 2.],\n",
              "        [3., 4.],\n",
              "        [5., 6.]], dtype=torch.float64)"
            ]
          },
          "metadata": {},
          "execution_count": 8
        }
      ]
    },
    {
      "cell_type": "code",
      "source": [
        "torch.zeros([2, 2]) # 建立全為 0 的張量"
      ],
      "metadata": {
        "colab": {
          "base_uri": "https://localhost:8080/"
        },
        "id": "34U-gdNJ2OaH",
        "outputId": "c034213f-4492-4ac3-e659-c138ff53feb0"
      },
      "execution_count": 7,
      "outputs": [
        {
          "output_type": "execute_result",
          "data": {
            "text/plain": [
              "tensor([[0., 0.],\n",
              "        [0., 0.]])"
            ]
          },
          "metadata": {},
          "execution_count": 7
        }
      ]
    },
    {
      "cell_type": "code",
      "source": [
        "torch.ones([2, 2]) # 建立全為 1 的張量"
      ],
      "metadata": {
        "colab": {
          "base_uri": "https://localhost:8080/"
        },
        "id": "lqilaeII2Qj4",
        "outputId": "c2f45b77-79f2-43c7-8bbf-acc9d2ebd419"
      },
      "execution_count": 6,
      "outputs": [
        {
          "output_type": "execute_result",
          "data": {
            "text/plain": [
              "tensor([[1., 1.],\n",
              "        [1., 1.]])"
            ]
          },
          "metadata": {},
          "execution_count": 6
        }
      ]
    },
    {
      "cell_type": "code",
      "source": [
        "torch.eye(3) # 建立單位矩陣"
      ],
      "metadata": {
        "colab": {
          "base_uri": "https://localhost:8080/"
        },
        "id": "Nkt0cFLG2S2U",
        "outputId": "2daff027-5ea0-4cd7-b968-8df83d78f22a"
      },
      "execution_count": 5,
      "outputs": [
        {
          "output_type": "execute_result",
          "data": {
            "text/plain": [
              "tensor([[1., 0., 0.],\n",
              "        [0., 1., 0.],\n",
              "        [0., 0., 1.]])"
            ]
          },
          "metadata": {},
          "execution_count": 5
        }
      ]
    },
    {
      "cell_type": "markdown",
      "source": [
        "### 3. **torch**.device 設定分配的設備"
      ],
      "metadata": {
        "id": "82VO1eHl3S43"
      }
    },
    {
      "cell_type": "code",
      "source": [
        "if torch.cuda.is_available():\n",
        "   cuda0 = torch.device('cuda:0')\n",
        "   t1 = torch.tensor([[1, 2], [3, 4], [5, 6]], dtype=torch.float64, device=cuda0)"
      ],
      "metadata": {
        "id": "gA5WUeqD3SSr"
      },
      "execution_count": 10,
      "outputs": []
    },
    {
      "cell_type": "code",
      "source": [
        "cuda0 = torch.device('cuda', 0) # 設定分配的設備"
      ],
      "metadata": {
        "id": "ZLQBgV6S4DlK"
      },
      "execution_count": 13,
      "outputs": []
    },
    {
      "cell_type": "code",
      "source": [
        "cuda1 = torch.device('cuda', 1) # 使用第二個GPU"
      ],
      "metadata": {
        "id": "IiBDBr9W4HW4"
      },
      "execution_count": 12,
      "outputs": []
    },
    {
      "cell_type": "code",
      "source": [
        "cpu = torch.device('cpu') # 使用CPU"
      ],
      "metadata": {
        "id": "ieuH25gJ4Q89"
      },
      "execution_count": 11,
      "outputs": []
    }
  ]
}