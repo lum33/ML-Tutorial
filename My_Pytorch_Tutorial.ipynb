{
  "nbformat": 4,
  "nbformat_minor": 0,
  "metadata": {
    "colab": {
      "provenance": [],
      "authorship_tag": "ABX9TyNzqU32IPuEe7RzQ+ZBcrKg"
    },
    "kernelspec": {
      "name": "python3",
      "display_name": "Python 3"
    },
    "language_info": {
      "name": "python"
    }
  },
  "cells": [
    {
      "cell_type": "markdown",
      "source": [
        "### **1. Import library**"
      ],
      "metadata": {
        "id": "kJk-oFc31IiF"
      }
    },
    {
      "cell_type": "code",
      "execution_count": null,
      "metadata": {
        "id": "yfN_-EIh0vy7"
      },
      "outputs": [],
      "source": [
        "import torch\n",
        "import numpy as np"
      ]
    },
    {
      "cell_type": "markdown",
      "source": [
        "### 2. Tensor **張量的基本寫法**"
      ],
      "metadata": {
        "id": "6PH5gcaa1UZP"
      }
    },
    {
      "cell_type": "code",
      "source": [
        "torch.tensor([[1, 2], [3, 4], [5, 6]]) # 建立一個張量"
      ],
      "metadata": {
        "colab": {
          "base_uri": "https://localhost:8080/"
        },
        "id": "nUzu1cGB0_kQ",
        "outputId": "0a614002-c2bf-4e94-c743-bde8ccb74948"
      },
      "execution_count": null,
      "outputs": [
        {
          "output_type": "execute_result",
          "data": {
            "text/plain": [
              "tensor([[1, 2],\n",
              "        [3, 4],\n",
              "        [5, 6]])"
            ]
          },
          "metadata": {},
          "execution_count": 4
        }
      ]
    },
    {
      "cell_type": "code",
      "source": [
        "torch.tensor([[1, 2], [3, 4], [5, 6]], dtype=torch.float64) # 可使用 dtype 來設定數據類型"
      ],
      "metadata": {
        "colab": {
          "base_uri": "https://localhost:8080/"
        },
        "id": "TATayow72EvG",
        "outputId": "298d694e-d957-4f4d-b8e7-6839107d0a7f"
      },
      "execution_count": null,
      "outputs": [
        {
          "output_type": "execute_result",
          "data": {
            "text/plain": [
              "tensor([[1., 2.],\n",
              "        [3., 4.],\n",
              "        [5., 6.]], dtype=torch.float64)"
            ]
          },
          "metadata": {},
          "execution_count": 8
        }
      ]
    },
    {
      "cell_type": "code",
      "source": [
        "torch.zeros([2, 2]) # 建立全為 0 的張量"
      ],
      "metadata": {
        "colab": {
          "base_uri": "https://localhost:8080/"
        },
        "id": "34U-gdNJ2OaH",
        "outputId": "c034213f-4492-4ac3-e659-c138ff53feb0"
      },
      "execution_count": null,
      "outputs": [
        {
          "output_type": "execute_result",
          "data": {
            "text/plain": [
              "tensor([[0., 0.],\n",
              "        [0., 0.]])"
            ]
          },
          "metadata": {},
          "execution_count": 7
        }
      ]
    },
    {
      "cell_type": "code",
      "source": [
        "torch.ones([2, 2]) # 建立全為 1 的張量"
      ],
      "metadata": {
        "colab": {
          "base_uri": "https://localhost:8080/"
        },
        "id": "lqilaeII2Qj4",
        "outputId": "c2f45b77-79f2-43c7-8bbf-acc9d2ebd419"
      },
      "execution_count": null,
      "outputs": [
        {
          "output_type": "execute_result",
          "data": {
            "text/plain": [
              "tensor([[1., 1.],\n",
              "        [1., 1.]])"
            ]
          },
          "metadata": {},
          "execution_count": 6
        }
      ]
    },
    {
      "cell_type": "code",
      "source": [
        "torch.eye(3) # 建立單位矩陣"
      ],
      "metadata": {
        "colab": {
          "base_uri": "https://localhost:8080/"
        },
        "id": "Nkt0cFLG2S2U",
        "outputId": "2daff027-5ea0-4cd7-b968-8df83d78f22a"
      },
      "execution_count": null,
      "outputs": [
        {
          "output_type": "execute_result",
          "data": {
            "text/plain": [
              "tensor([[1., 0., 0.],\n",
              "        [0., 1., 0.],\n",
              "        [0., 0., 1.]])"
            ]
          },
          "metadata": {},
          "execution_count": 5
        }
      ]
    },
    {
      "cell_type": "markdown",
      "source": [
        "### 3. **torch**.device 設定分配的設備"
      ],
      "metadata": {
        "id": "82VO1eHl3S43"
      }
    },
    {
      "cell_type": "code",
      "source": [
        "if torch.cuda.is_available():\n",
        "   cuda0 = torch.device('cuda:0')\n",
        "   t1 = torch.tensor([[1, 2], [3, 4], [5, 6]], dtype=torch.float64, device=cuda0)"
      ],
      "metadata": {
        "id": "gA5WUeqD3SSr"
      },
      "execution_count": null,
      "outputs": []
    },
    {
      "cell_type": "code",
      "source": [
        "cuda0 = torch.device('cuda', 0) # 設定分配的設備"
      ],
      "metadata": {
        "id": "ZLQBgV6S4DlK"
      },
      "execution_count": null,
      "outputs": []
    },
    {
      "cell_type": "code",
      "source": [
        "cuda1 = torch.device('cuda', 1) # 使用第二個GPU"
      ],
      "metadata": {
        "id": "IiBDBr9W4HW4"
      },
      "execution_count": null,
      "outputs": []
    },
    {
      "cell_type": "code",
      "source": [
        "cpu = torch.device('cpu') # 使用CPU"
      ],
      "metadata": {
        "id": "ieuH25gJ4Q89"
      },
      "execution_count": null,
      "outputs": []
    },
    {
      "cell_type": "markdown",
      "source": [
        "### **4. Autograd 以計算梯度**\n",
        "requires_grad：是否需要追蹤該 Tensor 以計算梯度"
      ],
      "metadata": {
        "id": "rlgDx68g17Vm"
      }
    },
    {
      "cell_type": "code",
      "source": [
        "# 建立 Tensor 並設定 requires_grad 為 True\n",
        "torch.tensor([[1, 2], [3, 4], [5, 6]], dtype=torch.float64, requires_grad=True)\n",
        "# 建立隨機數值的 Tensor 並設定 requires_grad 為 True\n",
        "torch.randn(2, 3, requires_grad=True)"
      ],
      "metadata": {
        "id": "lYxQ1S2f2OgB"
      },
      "execution_count": null,
      "outputs": []
    },
    {
      "cell_type": "markdown",
      "source": [
        "backward()：計算梯度"
      ],
      "metadata": {
        "id": "0kI7YAjx2jCI"
      }
    },
    {
      "cell_type": "code",
      "source": [
        "# 建立隨機數值的 Tensor 並設定 requires_grad=True\n",
        "x = torch.randn(2, 3, requires_grad=True)\n",
        "y = torch.randn(2, 3, requires_grad=True)\n",
        "z = torch.randn(2, 3, requires_grad=True)\n",
        "# 計算式子\n",
        "a = x * y\n",
        "b = a + z\n",
        "c = torch.sum(b)\n",
        "# 計算梯度\n",
        "c.backward()\n",
        "# 查看 x 的梯度值\n",
        "print(x.grad)"
      ],
      "metadata": {
        "id": "wt7wALGa2nAj"
      },
      "execution_count": null,
      "outputs": []
    },
    {
      "cell_type": "markdown",
      "source": [
        "在 with torch.no_grad()的影響下。。。"
      ],
      "metadata": {
        "id": "euvV7Afv36zg"
      }
    },
    {
      "cell_type": "code",
      "source": [
        "# 建立隨機數值的 Tensor 並設定 requires_grad=True\n",
        "x = torch.randn(2, 3, requires_grad=True)\n",
        "print(\"set x requires_grad:\", x.requires_grad)\n",
        "y = torch.randn(2, 3, requires_grad=True)\n",
        "z = torch.randn(2, 3, requires_grad=True)\n",
        "# 計算式子\n",
        "a = x * y\n",
        "b = a + z\n",
        "c = torch.sum(b)\n",
        "print(\"org c requires_grad:\", c.requires_grad)\n",
        "# 設定 no_grad()\n",
        "with torch.no_grad():\n",
        "  d = x * y\n",
        "print(\"set d requires_grad:\", d.requires_grad)"
      ],
      "metadata": {
        "id": "aeEBQSoG3_-X"
      },
      "execution_count": null,
      "outputs": []
    },
    {
      "cell_type": "markdown",
      "source": [
        "### **5. Datasets, DataLoader**"
      ],
      "metadata": {
        "id": "ztt1KzuG5UcG"
      }
    },
    {
      "cell_type": "markdown",
      "source": [
        "**5.1. torch.utils.data.Datasets**\n",
        "*   資料集的抽象類別，可以採用自己定義或是官方公開數據集\n"
      ],
      "metadata": {
        "id": "C6yePrc557Yh"
      }
    },
    {
      "cell_type": "code",
      "source": [
        "import torch\n",
        "import torchvision\n",
        "from torch.utils.data import Dataset\n",
        "class Dataset(object):\n",
        "    def __init__(self):\n",
        "      # 定義初始化參數\n",
        "      # 讀取資料集路徑\n",
        "    def __getitem__(self, index):\n",
        "      # 讀取每次迭代的資料集中第 idx  資料\n",
        "      # 進行前處理 (torchvision.Transform 等)\n",
        "      return # 資料和 label\n",
        "    def __len__(self):\n",
        "      # 計算資料集總共數量\n",
        "      return # 資料集總數"
      ],
      "metadata": {
        "id": "GgABe9Hy4DaI"
      },
      "execution_count": null,
      "outputs": []
    },
    {
      "cell_type": "markdown",
      "source": [
        "5.2. torch.utils.data.DataLoader\n",
        "\n",
        "*   定義每一次迭代要取樣多少資料量、是否要打亂數據 (shuffle)、使用單/多執行緒 (thread) 等等\n",
        "\n"
      ],
      "metadata": {
        "id": "Valjnt-JATBj"
      }
    },
    {
      "cell_type": "markdown",
      "source": [
        "\\begin{array}{|c|c|c|c|}\\hline\n",
        "No.&parameter&usage&prop.\\\\ \\hline\n",
        "1&\\text{dataset}&\\text{from which to load data}&\\text{-}\\\\\n",
        "2&\\text{batch_size}&\\text{how many samples per batch to load}&\\text{int; 1}\\\\\n",
        "3&\\text{shuffle}&\\text{data reshuffled at every epoch}&\\text{bool; False}\\\\\n",
        "4&\\text{sampler}&\\text{draw samples from the dataset}&\\text{Can be any Iterable with __len__ implemented}\\\\\n",
        "5&\\text{batch_sampler}&\\text{like sampler, but returns a batch of indices at a time}&\\text{-}\\\\\n",
        "6&\\text{num_workers}&\\text{how many subprocesses to use for data loading}&\\text{int; 0 means that the data will be loaded in the main process; 0}\\\\\n",
        "7&\\text{collate_fn}&\\text{merges a list of samples to form a mini-batch of Tensor}&\\text{Used when using batched loading from a map-style dataset}\\\\\n",
        "8&\\text{pin_memory}&\\text{If True, the data loader will copy Tensors into device/CUDA pinned memory before returning them}&\\text{bool}\\\\\n",
        "9&\\text{drop_last}&\\text{drop the last incomplete batch}&\\text{bool; (if the dataset size is not divisible by the batch size)}\\\\\n",
        "10&\\text{timeout}&\\text{ if positive, the timeout value for collecting a batch from workers}&\\text{0; non-negative}\\\\\n",
        "11&\\text{worker_init_fn}&\\text{}&\\text{}\\\\\n",
        "12&\\text{multiprocessing_context}&\\text{}&\\text{}\\\\\n",
        "13&\\text{generator}&\\text{}&\\text{}\\\\\n",
        "14&\\text{prefetch_factor}&\\text{}&\\text{}\\\\\n",
        "15&\\text{persistent_workers }&\\text{}&\\text{}\\\\\n",
        "16&\\text{pin_memory_device }&\\text{}&\\text{}\\\\ \\hline\n",
        "\\end{array}"
      ],
      "metadata": {
        "id": "x8HduIWT9OFZ"
      }
    },
    {
      "cell_type": "code",
      "source": [
        "from torchvision.datasets import ImageFolder\n",
        "from torch.utils.data import DataLoader\n",
        "from torchvision import transforms\n",
        "train_transform = transforms.Compose([\n",
        "                  transforms.Resize((256, 256)),\n",
        "                  transforms.ToTensor(),\n",
        "                  transforms.Normalize([0.485, 0.456, 0.406], [0.229, 0.224, 0.225])\n",
        "])\n",
        "# 使用 torchvision.datasets.ImageFolder 讀取貓狗資料\n",
        "image_folder = ImageFolder(\"./data/dog_cat_data\", transform=train_transform, target_transform=None)\n",
        "# 建立 DataLoader，shuffle 為 True 表示會將資料進行打亂\n",
        "data_loader = DataLoader(dataset = image_folder, batch_size= 100, shuffle= True, num_workers= 2)\n",
        "# 列印數據\n",
        "for batch_idx, (data, target) in enumerate(data_loader):\n",
        "     print(\"data:\", data)\n",
        "     print(\"label:\", target)"
      ],
      "metadata": {
        "id": "OJ8hAC_P7JOZ"
      },
      "execution_count": null,
      "outputs": []
    },
    {
      "cell_type": "markdown",
      "source": [
        "### **6. Network**"
      ],
      "metadata": {
        "id": "-uZ7YyUiFThD"
      }
    },
    {
      "cell_type": "markdown",
      "source": [
        "* 建立神經網路模型需繼承 torch.nn.Module"
      ],
      "metadata": {
        "id": "PgaF9nFrFXHF"
      }
    },
    {
      "cell_type": "code",
      "source": [
        "import torch.nn as nn\n",
        "import torch.nn.functional as F\n",
        "class Model(nn.Module):\n",
        "    def __init__(self): #建構神經網路裡的各個層\n",
        "        super(network_name, self).__init__()\n",
        "        # network layer\n",
        "    def forward(self, x):\n",
        "        # forward propagation\n",
        "        return output"
      ],
      "metadata": {
        "id": "6lWzLXN4FYZx"
      },
      "execution_count": null,
      "outputs": []
    },
    {
      "cell_type": "markdown",
      "source": [
        "當創建完模型後，使用模型輸入資料進行預測時，就會直接執行\n",
        "forward()，不需再另外調用。"
      ],
      "metadata": {
        "id": "2WlRe1DRGiK0"
      }
    },
    {
      "cell_type": "code",
      "source": [
        "model = Model()\n",
        "output = model(data)"
      ],
      "metadata": {
        "id": "vXZK9Jw0Glp2"
      },
      "execution_count": null,
      "outputs": []
    },
    {
      "cell_type": "markdown",
      "source": [
        "### **7. Loss Functions、Optimizer**"
      ],
      "metadata": {
        "id": "muCWoVxfGuAg"
      }
    },
    {
      "cell_type": "code",
      "source": [
        "import torch.nn as nn\n",
        "import torch.optim as optim\n",
        "criterion = nn.CrossEntropyLoss()                                 # nn for Loss Functions\n",
        "optimizer = optim.SGD(model.parameters(), lr=0.01, momentum=0.9)  # optim for optimizer"
      ],
      "metadata": {
        "id": "bMEylKbCGx-o"
      },
      "execution_count": null,
      "outputs": []
    },
    {
      "cell_type": "markdown",
      "source": [
        "### **8. Training**"
      ],
      "metadata": {
        "id": "XWRP9XTjIaO2"
      }
    },
    {
      "cell_type": "code",
      "source": [
        "# 訓練格式\n",
        "for epoch in range(epoch_size):\n",
        "    train_loss = 0.0\n",
        "    for batch_idx, (data, target) in enumerate(train_loader):\n",
        "        data, target = Variable(data), Variable(target)\n",
        "\n",
        "        if CUDA:\n",
        "            data, target = data.cuda(), target.cuda()\n",
        "\n",
        "        # clear gradient\n",
        "        optimizer.zero_grad()\n",
        "\n",
        "        # Forward propagation\n",
        "        output = model(data)\n",
        "        loss = criterion(output, target)\n",
        "\n",
        "        # Calculate gradients\n",
        "        loss.backward()\n",
        "\n",
        "        # Update parameters\n",
        "        optimizer.step()\n",
        "\n",
        "        predicted = torch.max(output.data, 1)[1]\n",
        "        train_loss += loss.item()"
      ],
      "metadata": {
        "id": "dCRR3EzvJArl"
      },
      "execution_count": null,
      "outputs": []
    },
    {
      "cell_type": "markdown",
      "source": [
        "### **9. Save, Load Model**"
      ],
      "metadata": {
        "id": "_C13i2bqJGy3"
      }
    },
    {
      "cell_type": "code",
      "source": [
        "#只儲存模型的權重\n",
        "torch.save(model.state_dict(), 'model_weights.pth')\n",
        "# 讀取權重\n",
        "model.load_state_dict(torch.load('model_weights.pth'))\n",
        "#完整儲存整個模型\n",
        "torch.save(model, 'model.pth')\n",
        "#load 整個模型\n",
        "model = torch.load('model.pth')"
      ],
      "metadata": {
        "collapsed": true,
        "id": "EcqqdSj0JLJS"
      },
      "execution_count": null,
      "outputs": []
    },
    {
      "cell_type": "markdown",
      "source": [
        "### **10. TensorBoard**"
      ],
      "metadata": {
        "id": "OrP4sIKjJrIe"
      }
    },
    {
      "cell_type": "markdown",
      "source": [
        "*   由視覺化的方式來觀察與紀錄訓練結果的好用工具，可依照個人需求設定要記錄的項目\n",
        "\n",
        "\n"
      ],
      "metadata": {
        "id": "7WlxHrkuJy6t"
      }
    },
    {
      "cell_type": "code",
      "source": [
        "from torch.utils.tensorboard import SummaryWriter\n",
        "log_dir = \"./log_dir/\"\n",
        "writer = SummaryWriter(log_dir)\n",
        "# 寫入資料\n",
        "writer.add_scalar(tag, scalar_value)\n",
        "writer.add_histogram(tag, values)\n",
        "writer.add_image(tag, img_tensor)\n",
        "\n",
        "# 開啟 tensorboard\n",
        "# tensorboard --logdir=\"./log_dir\""
      ],
      "metadata": {
        "id": "2EJVX2LSJXbQ"
      },
      "execution_count": null,
      "outputs": []
    }
  ]
}