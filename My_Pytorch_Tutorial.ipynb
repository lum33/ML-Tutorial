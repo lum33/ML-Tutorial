{
  "nbformat": 4,
  "nbformat_minor": 0,
  "metadata": {
    "colab": {
      "provenance": [],
      "authorship_tag": "ABX9TyPNQN0/iMlhrV6ZySFkdSnp",
      "include_colab_link": true
    },
    "kernelspec": {
      "name": "python3",
      "display_name": "Python 3"
    },
    "language_info": {
      "name": "python"
    }
  },
  "cells": [
    {
      "cell_type": "markdown",
      "metadata": {
        "id": "view-in-github",
        "colab_type": "text"
      },
      "source": [
        "<a href=\"https://colab.research.google.com/github/lum33/ML-Tutorial/blob/main/My_Pytorch_Tutorial.ipynb\" target=\"_parent\"><img src=\"https://colab.research.google.com/assets/colab-badge.svg\" alt=\"Open In Colab\"/></a>"
      ]
    },
    {
      "cell_type": "markdown",
      "source": [
        "### **1. Import library**"
      ],
      "metadata": {
        "id": "kJk-oFc31IiF"
      }
    },
    {
      "cell_type": "code",
      "execution_count": null,
      "metadata": {
        "id": "yfN_-EIh0vy7"
      },
      "outputs": [],
      "source": [
        "import torch\n",
        "import numpy as np"
      ]
    },
    {
      "cell_type": "markdown",
      "source": [
        "### 2. Tensor **張量的基本寫法**"
      ],
      "metadata": {
        "id": "6PH5gcaa1UZP"
      }
    },
    {
      "cell_type": "code",
      "source": [
        "torch.tensor([[1, 2], [3, 4], [5, 6]]) # 建立一個張量"
      ],
      "metadata": {
        "colab": {
          "base_uri": "https://localhost:8080/"
        },
        "id": "nUzu1cGB0_kQ",
        "outputId": "0a614002-c2bf-4e94-c743-bde8ccb74948"
      },
      "execution_count": null,
      "outputs": [
        {
          "output_type": "execute_result",
          "data": {
            "text/plain": [
              "tensor([[1, 2],\n",
              "        [3, 4],\n",
              "        [5, 6]])"
            ]
          },
          "metadata": {},
          "execution_count": 4
        }
      ]
    },
    {
      "cell_type": "code",
      "source": [
        "torch.tensor([[1, 2], [3, 4], [5, 6]], dtype=torch.float64) # 可使用 dtype 來設定數據類型"
      ],
      "metadata": {
        "colab": {
          "base_uri": "https://localhost:8080/"
        },
        "id": "TATayow72EvG",
        "outputId": "298d694e-d957-4f4d-b8e7-6839107d0a7f"
      },
      "execution_count": null,
      "outputs": [
        {
          "output_type": "execute_result",
          "data": {
            "text/plain": [
              "tensor([[1., 2.],\n",
              "        [3., 4.],\n",
              "        [5., 6.]], dtype=torch.float64)"
            ]
          },
          "metadata": {},
          "execution_count": 8
        }
      ]
    },
    {
      "cell_type": "code",
      "source": [
        "torch.zeros([2, 2]) # 建立全為 0 的張量"
      ],
      "metadata": {
        "colab": {
          "base_uri": "https://localhost:8080/"
        },
        "id": "34U-gdNJ2OaH",
        "outputId": "c034213f-4492-4ac3-e659-c138ff53feb0"
      },
      "execution_count": null,
      "outputs": [
        {
          "output_type": "execute_result",
          "data": {
            "text/plain": [
              "tensor([[0., 0.],\n",
              "        [0., 0.]])"
            ]
          },
          "metadata": {},
          "execution_count": 7
        }
      ]
    },
    {
      "cell_type": "code",
      "source": [
        "torch.ones([2, 2]) # 建立全為 1 的張量"
      ],
      "metadata": {
        "colab": {
          "base_uri": "https://localhost:8080/"
        },
        "id": "lqilaeII2Qj4",
        "outputId": "c2f45b77-79f2-43c7-8bbf-acc9d2ebd419"
      },
      "execution_count": null,
      "outputs": [
        {
          "output_type": "execute_result",
          "data": {
            "text/plain": [
              "tensor([[1., 1.],\n",
              "        [1., 1.]])"
            ]
          },
          "metadata": {},
          "execution_count": 6
        }
      ]
    },
    {
      "cell_type": "code",
      "source": [
        "torch.eye(3) # 建立單位矩陣"
      ],
      "metadata": {
        "colab": {
          "base_uri": "https://localhost:8080/"
        },
        "id": "Nkt0cFLG2S2U",
        "outputId": "2daff027-5ea0-4cd7-b968-8df83d78f22a"
      },
      "execution_count": null,
      "outputs": [
        {
          "output_type": "execute_result",
          "data": {
            "text/plain": [
              "tensor([[1., 0., 0.],\n",
              "        [0., 1., 0.],\n",
              "        [0., 0., 1.]])"
            ]
          },
          "metadata": {},
          "execution_count": 5
        }
      ]
    },
    {
      "cell_type": "markdown",
      "source": [
        "### 3. **torch**.device 設定分配的設備"
      ],
      "metadata": {
        "id": "82VO1eHl3S43"
      }
    },
    {
      "cell_type": "code",
      "source": [
        "if torch.cuda.is_available():\n",
        "   cuda0 = torch.device('cuda:0')\n",
        "   t1 = torch.tensor([[1, 2], [3, 4], [5, 6]], dtype=torch.float64, device=cuda0)"
      ],
      "metadata": {
        "id": "gA5WUeqD3SSr"
      },
      "execution_count": null,
      "outputs": []
    },
    {
      "cell_type": "code",
      "source": [
        "cuda0 = torch.device('cuda', 0) # 設定分配的設備"
      ],
      "metadata": {
        "id": "ZLQBgV6S4DlK"
      },
      "execution_count": null,
      "outputs": []
    },
    {
      "cell_type": "code",
      "source": [
        "cuda1 = torch.device('cuda', 1) # 使用第二個GPU"
      ],
      "metadata": {
        "id": "IiBDBr9W4HW4"
      },
      "execution_count": null,
      "outputs": []
    },
    {
      "cell_type": "code",
      "source": [
        "cpu = torch.device('cpu') # 使用CPU"
      ],
      "metadata": {
        "id": "ieuH25gJ4Q89"
      },
      "execution_count": null,
      "outputs": []
    },
    {
      "cell_type": "markdown",
      "source": [
        "### **4. Autograd 以計算梯度**\n",
        "requires_grad：是否需要追蹤該 Tensor 以計算梯度"
      ],
      "metadata": {
        "id": "rlgDx68g17Vm"
      }
    },
    {
      "cell_type": "code",
      "source": [
        "# 建立 Tensor 並設定 requires_grad 為 True\n",
        "torch.tensor([[1, 2], [3, 4], [5, 6]], dtype=torch.float64, requires_grad=True)\n",
        "# 建立隨機數值的 Tensor 並設定 requires_grad 為 True\n",
        "torch.randn(2, 3, requires_grad=True)"
      ],
      "metadata": {
        "id": "lYxQ1S2f2OgB"
      },
      "execution_count": null,
      "outputs": []
    },
    {
      "cell_type": "markdown",
      "source": [
        "backward()：計算梯度"
      ],
      "metadata": {
        "id": "0kI7YAjx2jCI"
      }
    },
    {
      "cell_type": "code",
      "source": [
        "# 建立隨機數值的 Tensor 並設定 requires_grad=True\n",
        "x = torch.randn(2, 3, requires_grad=True)\n",
        "y = torch.randn(2, 3, requires_grad=True)\n",
        "z = torch.randn(2, 3, requires_grad=True)\n",
        "# 計算式子\n",
        "a = x * y\n",
        "b = a + z\n",
        "c = torch.sum(b)\n",
        "# 計算梯度\n",
        "c.backward()\n",
        "# 查看 x 的梯度值\n",
        "print(x.grad)"
      ],
      "metadata": {
        "id": "wt7wALGa2nAj"
      },
      "execution_count": null,
      "outputs": []
    },
    {
      "cell_type": "markdown",
      "source": [
        "在 with torch.no_grad()的影響下。。。"
      ],
      "metadata": {
        "id": "euvV7Afv36zg"
      }
    },
    {
      "cell_type": "code",
      "source": [
        "# 建立隨機數值的 Tensor 並設定 requires_grad=True\n",
        "x = torch.randn(2, 3, requires_grad=True)\n",
        "print(\"set x requires_grad:\", x.requires_grad)\n",
        "y = torch.randn(2, 3, requires_grad=True)\n",
        "z = torch.randn(2, 3, requires_grad=True)\n",
        "# 計算式子\n",
        "a = x * y\n",
        "b = a + z\n",
        "c = torch.sum(b)\n",
        "print(\"org c requires_grad:\", c.requires_grad)\n",
        "# 設定 no_grad()\n",
        "with torch.no_grad():\n",
        "  d = x * y\n",
        "print(\"set d requires_grad:\", d.requires_grad)"
      ],
      "metadata": {
        "id": "aeEBQSoG3_-X"
      },
      "execution_count": null,
      "outputs": []
    },
    {
      "cell_type": "markdown",
      "source": [
        "### **5. Datasets, DataLoader**"
      ],
      "metadata": {
        "id": "ztt1KzuG5UcG"
      }
    },
    {
      "cell_type": "markdown",
      "source": [
        "**5.1. torch.utils.data.Datasets**\n",
        "*   資料集的抽象類別，可以採用自己定義或是官方公開數據集\n"
      ],
      "metadata": {
        "id": "C6yePrc557Yh"
      }
    },
    {
      "cell_type": "code",
      "source": [
        "import torch\n",
        "import torchvision\n",
        "from torch.utils.data import Dataset\n",
        "class Dataset(object):\n",
        "    def __init__(self):\n",
        "      # 定義初始化參數\n",
        "      # 讀取資料集路徑\n",
        "    def __getitem__(self, index):\n",
        "      # 讀取每次迭代的資料集中第 idx  資料\n",
        "      # 進行前處理 (torchvision.Transform 等)\n",
        "      return # 資料和 label\n",
        "    def __len__(self):\n",
        "      # 計算資料集總共數量\n",
        "      return # 資料集總數"
      ],
      "metadata": {
        "id": "GgABe9Hy4DaI"
      },
      "execution_count": null,
      "outputs": []
    },
    {
      "cell_type": "markdown",
      "source": [
        "5.2. torch.utils.data.DataLoader\n",
        "\n",
        "*   義每一次迭代要取樣多少資料量、是否要打亂數據 (shuffle)、使用單/多執行緒 (thread) 等等\n",
        "\n"
      ],
      "metadata": {
        "id": "Valjnt-JATBj"
      }
    },
    {
      "cell_type": "code",
      "source": [
        "from torchvision.datasets import ImageFolder\n",
        "from torch.utils.data import DataLoader\n",
        "from torchvision import transforms\n",
        "train_transform = transforms.Compose([\n",
        "                  transforms.Resize((256, 256)),\n",
        "                  transforms.ToTensor(),\n",
        "                  transforms.Normalize([0.485, 0.456, 0.406], [0.229, 0.224, 0.225])\n",
        "])\n",
        "# 使用 torchvision.datasets.ImageFolder 讀取貓狗資料\n",
        "image_folder = ImageFolder(\"./data/dog_cat_data\", transform=train_transform, target_transform=None)\n",
        "# 建立 DataLoader，shuffle 為 True 表示會將資料進行打亂\n",
        "data_loader = DataLoader(dataset = image_folder, batch_size= 100, shuffle= True, num_workers= 2)\n",
        "# 列印數據\n",
        "for batch_idx, (data, target) in enumerate(data_loader):\n",
        "     print(\"data:\", data)\n",
        "     print(\"label:\", target)"
      ],
      "metadata": {
        "id": "OJ8hAC_P7JOZ"
      },
      "execution_count": null,
      "outputs": []
    }
  ]
}